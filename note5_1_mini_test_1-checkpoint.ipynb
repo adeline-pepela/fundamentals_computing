{
 "cells": [
  {
   "cell_type": "markdown",
   "metadata": {},
   "source": [
    "# Python Coding Mini Test"
   ]
  },
  {
   "cell_type": "markdown",
   "metadata": {},
   "source": [
    "**Q1. Print 6 divided by 2**"
   ]
  },
  {
   "cell_type": "code",
   "execution_count": 1,
   "metadata": {},
   "outputs": [
    {
     "name": "stdout",
     "output_type": "stream",
     "text": [
      "3.0\n"
     ]
    }
   ],
   "source": [
    "print(6/2)"
   ]
  },
  {
   "cell_type": "markdown",
   "metadata": {},
   "source": [
    "**Q2. Guess the Output**  \n",
    "What will the following code output?"
   ]
  },
  {
   "cell_type": "code",
   "execution_count": 2,
   "metadata": {},
   "outputs": [
    {
     "name": "stdout",
     "output_type": "stream",
     "text": [
      "Hello\n",
      " World!\n"
     ]
    }
   ],
   "source": [
    "print(\"Hello\")\n",
    "print(\" World!\")"
   ]
  },
  {
   "cell_type": "markdown",
   "metadata": {},
   "source": [
    "**Q3. Print Squares**  \n",
    "Write a program to output the squares (using multiplication) of numbers from 1 to 5 on separate lines."
   ]
  },
  {
   "cell_type": "code",
   "execution_count": 3,
   "metadata": {},
   "outputs": [
    {
     "name": "stdout",
     "output_type": "stream",
     "text": [
      "1-1\n",
      "2-4\n",
      "3-9\n",
      "4-16\n",
      "5-25\n"
     ]
    }
   ],
   "source": [
    "for x in range(1, 6):\n",
    "    square = x**2\n",
    "    print(f'{x}-{square}')"
   ]
  },
  {
   "cell_type": "markdown",
   "metadata": {},
   "source": [
    "**Q4. Declare Long Data Type**  \n",
    "How do you declare a variable of type long storing the value 954200?"
   ]
  },
  {
   "cell_type": "code",
   "execution_count": 4,
   "metadata": {},
   "outputs": [],
   "source": [
    "#In Python 3, you don’t need to explicitly declare a variable type. \n",
    "#Python is dynamically typed, which means that you can assign any value to a variable, \n",
    "#and Python will handle the type internally. For a long integer value like 954200, you \n",
    "#can simply assign it to a variable.\n",
    "\n",
    "num = 954200"
   ]
  },
  {
   "cell_type": "markdown",
   "metadata": {},
   "source": [
    "**Q5. Divide Two Variables**  \n",
    "Declare two variables x and y, and assign 20 to x and 6 to y.  \n",
    "Divide x by y (i.e. perform integer division x//y) and print the result."
   ]
  },
  {
   "cell_type": "code",
   "execution_count": 5,
   "metadata": {},
   "outputs": [
    {
     "name": "stdout",
     "output_type": "stream",
     "text": [
      "3\n"
     ]
    }
   ],
   "source": [
    "x = 20\n",
    "y = 6\n",
    "print(x//y)"
   ]
  },
  {
   "cell_type": "markdown",
   "metadata": {},
   "source": [
    "**Q6. Add space between strings**  \n",
    "How would you add a space between two strings \"first\" and \"second\"?"
   ]
  },
  {
   "cell_type": "code",
   "execution_count": 6,
   "metadata": {},
   "outputs": [
    {
     "data": {
      "text/plain": [
       "'first second'"
      ]
     },
     "execution_count": 6,
     "metadata": {},
     "output_type": "execute_result"
    }
   ],
   "source": [
    "first = \"first\"\n",
    "second = \"second\"\n",
    "\n",
    "first+\" \"+second"
   ]
  },
  {
   "cell_type": "markdown",
   "metadata": {},
   "source": [
    "**Q7. Print the length**  \n",
    "Write a program to print the length of each word of the sentence given below as well as the length of the whole sentence."
   ]
  },
  {
   "cell_type": "code",
   "execution_count": 11,
   "metadata": {},
   "outputs": [
    {
     "name": "stdout",
     "output_type": "stream",
     "text": [
      "Coding-6\n",
      "on-2\n",
      "CodeChef-8\n",
      "Coding on CodeChef-18\n"
     ]
    }
   ],
   "source": [
    "sentence = \"Coding on CodeChef\"\n",
    "split = sentence.split()\n",
    "for element in split:\n",
    "    length = len(element)\n",
    "    print(f'{element}-{length}')\n",
    "length = len(sentence)\n",
    "print(f'{sentence}-{length}')"
   ]
  },
  {
   "cell_type": "markdown",
   "metadata": {},
   "source": [
    "**Q8. Guess the output**  \n",
    "What is the output of the following code?"
   ]
  },
  {
   "cell_type": "code",
   "execution_count": 12,
   "metadata": {},
   "outputs": [
    {
     "name": "stdout",
     "output_type": "stream",
     "text": [
      "2\n",
      "1\n",
      "3\n"
     ]
    }
   ],
   "source": [
    "x = int(2.3)\n",
    "y = int(1.4)\n",
    "print(x)\n",
    "print(y)\n",
    "print(x+y)\n",
    "#it prints the sum of x and y"
   ]
  },
  {
   "cell_type": "markdown",
   "metadata": {},
   "source": [
    "**Q9. Scope of Code**  \n",
    "How is the scope of code defined?  \n",
    "\n",
    "  In Python 3, the scope of a variable is determined by the place in the code where you define it, which is known as the variable’s namespace.  \n",
    "  So, the answer is: Tabs"
   ]
  },
  {
   "cell_type": "markdown",
   "metadata": {},
   "source": [
    "**Q10. Guess the output**  \n",
    "What will be the output of the following code?"
   ]
  },
  {
   "cell_type": "code",
   "execution_count": 13,
   "metadata": {},
   "outputs": [
    {
     "name": "stdout",
     "output_type": "stream",
     "text": [
      "Greater than 10\n",
      "Greater than 5\n"
     ]
    }
   ],
   "source": [
    "a = 15\n",
    "if a > 10:\n",
    "    print(\"Greater than 10\")\n",
    "if a > 5:\n",
    "    print(\"Greater than 5\")"
   ]
  },
  {
   "cell_type": "markdown",
   "metadata": {},
   "source": [
    "**Q11. Positive and Negative**  \n",
    "Write a program to check whether a number given as user input is positive, negative, or zero."
   ]
  },
  {
   "cell_type": "code",
   "execution_count": 15,
   "metadata": {},
   "outputs": [
    {
     "name": "stdout",
     "output_type": "stream",
     "text": [
      "Negative\n"
     ]
    }
   ],
   "source": [
    "# x = 20\n",
    "# x = 0\n",
    "x = -95\n",
    "if x > 0:\n",
    "    print(\"Positive\")\n",
    "elif x == 0:\n",
    "    print(\"Zero\")\n",
    "else:\n",
    "    print(\"Negative\")"
   ]
  },
  {
   "cell_type": "markdown",
   "metadata": {},
   "source": [
    "**Q12. Guess the output**  \n",
    "What does the following code snippet do?"
   ]
  },
  {
   "cell_type": "code",
   "execution_count": 37,
   "metadata": {},
   "outputs": [
    {
     "name": "stdout",
     "output_type": "stream",
     "text": [
      "Not Positive\n"
     ]
    }
   ],
   "source": [
    "x = -5\n",
    "#x = 0\n",
    "#x = 5\n",
    "if not (x>0): #! is not used in Python to negate the statement\n",
    "    print(\"Not Positive\")"
   ]
  },
  {
   "cell_type": "markdown",
   "metadata": {},
   "source": [
    "**Q13. Increase or Decrease**  \n",
    "Write a program that takes three space separated numbers as input.\n",
    "- Prints \"Increasing\" if the numbers are in strictly increasing order,\n",
    "- Decreasing\" if they are in strictly decreasing order,\n",
    "- and \"Neither\" otherwise."
   ]
  },
  {
   "cell_type": "code",
   "execution_count": 18,
   "metadata": {},
   "outputs": [
    {
     "name": "stdout",
     "output_type": "stream",
     "text": [
      "Neither\n"
     ]
    }
   ],
   "source": [
    "# Get input from the user\n",
    "#three_number = \"20 30 41\"\n",
    "#three_number = \"50 30 20\"\n",
    "three_number = \"23 42 30\"\n",
    "numbers = three_number.split()\n",
    "\n",
    "# Convert input strings to integers\n",
    "num1, num2, num3 = map(int, numbers)\n",
    "\n",
    "# Check the order of the numbers\n",
    "if num1 < num2 < num3:\n",
    "    print(\"Increasing\")\n",
    "elif num1 > num2 > num3:\n",
    "    print(\"Decreasing\")\n",
    "else:\n",
    "    print(\"Neither\")"
   ]
  },
  {
   "cell_type": "markdown",
   "metadata": {},
   "source": [
    "**Q14. Tuple_Output**  \n",
    "What does the following code snippet do?"
   ]
  },
  {
   "cell_type": "code",
   "execution_count": 19,
   "metadata": {},
   "outputs": [
    {
     "ename": "<class 'TypeError'>",
     "evalue": "'tuple' object does not support item assignment",
     "output_type": "error",
     "traceback": [
      "\u001b[0;31m---------------------------------------------------------------------------\u001b[0m",
      "\u001b[0;31mTypeError\u001b[0m                                 Traceback (most recent call last)",
      "Cell \u001b[0;32mIn[19], line 2\u001b[0m\n\u001b[1;32m      1\u001b[0m my_tuple \u001b[38;5;241m=\u001b[39m (\u001b[38;5;241m1\u001b[39m, \u001b[38;5;241m2\u001b[39m, \u001b[38;5;241m3\u001b[39m)\n\u001b[0;32m----> 2\u001b[0m \u001b[43mmy_tuple\u001b[49m\u001b[43m[\u001b[49m\u001b[38;5;241;43m1\u001b[39;49m\u001b[43m]\u001b[49m \u001b[38;5;241m=\u001b[39m \u001b[38;5;241m4\u001b[39m\n\u001b[1;32m      3\u001b[0m \u001b[38;5;28mprint\u001b[39m(my_tuple)\n",
      "\u001b[0;31mTypeError\u001b[0m: 'tuple' object does not support item assignment"
     ]
    }
   ],
   "source": [
    "my_tuple = (1, 2, 3)\n",
    "my_tuple[1] = 4\n",
    "print(my_tuple)"
   ]
  },
  {
   "cell_type": "markdown",
   "metadata": {},
   "source": [
    "**Q15. Dictionary Filtering**  \n",
    "Write a Python function filter_dict(dictionary, keys) that takes a dictionary and a list of keys as input and  \n",
    "returns a new dictionary containing only the key-value pairs where the key is present in the provided list."
   ]
  },
  {
   "cell_type": "code",
   "execution_count": 20,
   "metadata": {},
   "outputs": [
    {
     "name": "stdout",
     "output_type": "stream",
     "text": [
      "{'a': 1, 'c': 3}\n"
     ]
    }
   ],
   "source": [
    "def filter_dict(dictionary, keys):\n",
    "    # Create a new dictionary with key-value pairs where the key is in the keys list\n",
    "    return {k: dictionary[k] for k in keys if k in dictionary}\n",
    "    \n",
    "# Test\n",
    "dictionary = {\"a\": 1, \"b\": 2, \"c\": 3, \"d\": 4}\n",
    "keys = [\"a\", \"c\", \"e\"]\n",
    "print(filter_dict(dictionary, keys))"
   ]
  },
  {
   "cell_type": "markdown",
   "metadata": {},
   "source": [
    "**Q16. Compilation error**  \n",
    "How do you identify a compilation error?  \n",
    "A. In Python, you would identify a compilation error by option 3. error messages during compilation. Python is an interpreted language, and while it doesn’t have a compilation phase in the same way that compiled languages like C or Java do, syntax errors and other compilation-related issues are checked before runtime. If there’s a problem with the syntax, Python will raise an error message during this initial parsing phase, which can be thought of as the “compilation” step for interpreted languages. This is when you would catch errors such as missing parentheses, incorrect indentation, or other syntax issues that prevent the script from being executed."
   ]
  },
  {
   "cell_type": "markdown",
   "metadata": {},
   "source": [
    "**Q17. Identify the error**  \n",
    "Identify and correct the error in the following code (in the IDE)."
   ]
  },
  {
   "cell_type": "code",
   "execution_count": 21,
   "metadata": {},
   "outputs": [
    {
     "ename": "<class 'NameError'>",
     "evalue": "name 'number' is not defined",
     "output_type": "error",
     "traceback": [
      "\u001b[0;31m---------------------------------------------------------------------------\u001b[0m",
      "\u001b[0;31mNameError\u001b[0m                                 Traceback (most recent call last)",
      "Cell \u001b[0;32mIn[21], line 2\u001b[0m\n\u001b[1;32m      1\u001b[0m Number \u001b[38;5;241m=\u001b[39m \u001b[38;5;241m19\u001b[39m \u001b[38;5;66;03m# Number should be number\u001b[39;00m\n\u001b[0;32m----> 2\u001b[0m \u001b[38;5;28mprint\u001b[39m(\u001b[43mnumber\u001b[49m)\n",
      "\u001b[0;31mNameError\u001b[0m: name 'number' is not defined"
     ]
    }
   ],
   "source": [
    "Number = 19 # Number should be number\n",
    "print(number)"
   ]
  },
  {
   "cell_type": "markdown",
   "metadata": {},
   "source": [
    "**Q18. Identify the error**  \n",
    "Rectify the errors in the program to get the desired output."
   ]
  },
  {
   "cell_type": "code",
   "execution_count": 23,
   "metadata": {},
   "outputs": [
    {
     "name": "stdout",
     "output_type": "stream",
     "text": [
      "Invalid choice\n"
     ]
    }
   ],
   "source": [
    "#choice = 1\n",
    "#choice = 2\n",
    "#choice = 3\n",
    "choice = 4\n",
    "\n",
    "if choice == 1:\n",
    "    print(\"Option 1 selected\")\n",
    "elif choice == 1:  #1 should be replaced with 2\n",
    "    print(\"Option 2 selected\")\n",
    "elif choice == 3:\n",
    "    print(\"Option 3 selected\")\n",
    "else:\n",
    "    print(\"Invalid choice\")"
   ]
  },
  {
   "cell_type": "markdown",
   "metadata": {},
   "source": [
    "**Q19. Guess the output**  \n",
    "What is the output of the following code?"
   ]
  },
  {
   "cell_type": "code",
   "execution_count": 24,
   "metadata": {},
   "outputs": [
    {
     "name": "stdout",
     "output_type": "stream",
     "text": [
      "10\n"
     ]
    }
   ],
   "source": [
    "data = [2, 4, 6, 8, 10]\n",
    "print(data[0] + data[3])"
   ]
  },
  {
   "cell_type": "markdown",
   "metadata": {},
   "source": [
    "**Q20. Multiply elements**  \n",
    "Write a program to declare and accept an array / list of N space separate integers.  \n",
    "Calculate the multiplication of the 1st and 3rd elements of the array and output the same to the console."
   ]
  },
  {
   "cell_type": "code",
   "execution_count": 25,
   "metadata": {},
   "outputs": [
    {
     "name": "stdout",
     "output_type": "stream",
     "text": [
      "250\n"
     ]
    }
   ],
   "source": [
    "# Accept a list of space-separated integers from the user\n",
    "numbers = \"10 12 25 9 20\"\n",
    "numbers = numbers.split()\n",
    "\n",
    "# Convert the input strings to integers\n",
    "numbers = [int(num) for num in numbers]\n",
    "\n",
    "# Check if there are at least three elements\n",
    "if len(numbers) >= 3:\n",
    "    # Calculate the multiplication of the 1st and 3rd elements\n",
    "    result = numbers[0] * numbers[2]\n",
    "    print(result)\n",
    "else:\n",
    "    print(\"Please enter at least three integers.\")"
   ]
  },
  {
   "cell_type": "markdown",
   "metadata": {},
   "source": [
    "**Q21. Guess the output**  \n",
    "What happens if the initial condition of a while loop is false?  \n",
    "A. If the initial condition of a while loop is false, then option 3 is correct: the loop is skipped, and the code inside is not executed. The while loop checks the condition before executing the block of code inside it, and if the condition is false from the beginning, the loop’s body will not run even once."
   ]
  },
  {
   "cell_type": "markdown",
   "metadata": {},
   "source": [
    "**Q22. Print factorial**  \n",
    "Write a program that uses a while loop to find the factorial of a given number."
   ]
  },
  {
   "cell_type": "code",
   "execution_count": 26,
   "metadata": {},
   "outputs": [
    {
     "name": "stdout",
     "output_type": "stream",
     "text": [
      "120\n"
     ]
    }
   ],
   "source": [
    "# Function to calculate factorial\n",
    "def factorial(number):\n",
    "    if number < 0:\n",
    "        return \"Factorial does not exist for negative numbers.\"\n",
    "    elif number == 0:\n",
    "        return 1\n",
    "    else:\n",
    "        result = 1\n",
    "        while number > 0:\n",
    "            result = result*number\n",
    "            number = number - 1\n",
    "        return result\n",
    "\n",
    "print(factorial(5))"
   ]
  },
  {
   "cell_type": "markdown",
   "metadata": {},
   "source": [
    "**Q23. Number of executions**  \n",
    "In a FOR loop, how many times does argument 1 of the range function get used?  \n",
    "A. So, the argument 1 of the range function gets used to generate a sequence with a single element (0), and the loop body executes once."
   ]
  },
  {
   "cell_type": "code",
   "execution_count": 27,
   "metadata": {},
   "outputs": [
    {
     "name": "stdout",
     "output_type": "stream",
     "text": [
      "0\n"
     ]
    }
   ],
   "source": [
    "for i in range(1):\n",
    "    print(i)"
   ]
  },
  {
   "cell_type": "markdown",
   "metadata": {},
   "source": [
    "**Q24. Sum of numbers**  \n",
    "Write a program using a for loop to calculate the sum of the first N natural numbers."
   ]
  },
  {
   "cell_type": "code",
   "execution_count": 29,
   "metadata": {},
   "outputs": [
    {
     "name": "stdout",
     "output_type": "stream",
     "text": [
      "55\n"
     ]
    }
   ],
   "source": [
    "def sum_of_naturals(N):\n",
    "    total = 0\n",
    "    for number in range(1, N + 1):\n",
    "        total = total + number\n",
    "    return total\n",
    "\n",
    "print(sum_of_naturals(10))"
   ]
  },
  {
   "cell_type": "markdown",
   "metadata": {},
   "source": [
    "**Q25. Guess the output**  \n",
    "How does the continue statement affect the loop?  \n",
    "A. Continues to the next iteration when i is equal to 2"
   ]
  },
  {
   "cell_type": "code",
   "execution_count": 32,
   "metadata": {},
   "outputs": [
    {
     "name": "stdout",
     "output_type": "stream",
     "text": [
      "0 1 3 4 "
     ]
    }
   ],
   "source": [
    "for i in range(5):\n",
    "    if i == 2:\n",
    "        continue\n",
    "    print(i, end=\" \")"
   ]
  },
  {
   "cell_type": "markdown",
   "metadata": {},
   "source": [
    "**Q26. Square of numbers**  \n",
    "Write a program that uses a for-each loop to print the square of each element in list of N space separated integers, but skips elements greater than 10."
   ]
  },
  {
   "cell_type": "code",
   "execution_count": 34,
   "metadata": {},
   "outputs": [
    {
     "name": "stdout",
     "output_type": "stream",
     "text": [
      "4\n",
      "100\n",
      "36\n"
     ]
    }
   ],
   "source": [
    "stringnumber = \"2 10 12 6 15\"\n",
    "numbers = stringnumber.split()\n",
    "numbers = [int(num) for num in numbers]\n",
    "\n",
    "# Use a for-each loop to iterate through the list\n",
    "for num in numbers:\n",
    "    # Skip elements greater than 10\n",
    "    if num > 10:\n",
    "        continue\n",
    "    # Print the square of the element\n",
    "    print(num**2)"
   ]
  },
  {
   "cell_type": "markdown",
   "metadata": {},
   "source": [
    "**Q27. Return Statement**  \n",
    "What is the purpose of the return statement in a function?  \n",
    "A. To provide a value back to the caller. When a return statement is executed, the function ends, and the value specified in the return statement is passed back to the place where the function was called."
   ]
  },
  {
   "cell_type": "markdown",
   "metadata": {},
   "source": [
    "**Q28. Calculate power**  \n",
    "Write a function named calculatePower that takes two integer, base and exponent respectively, and returns the result of raising base to the power of exponent."
   ]
  },
  {
   "cell_type": "code",
   "execution_count": 36,
   "metadata": {},
   "outputs": [
    {
     "name": "stdout",
     "output_type": "stream",
     "text": [
      "8\n"
     ]
    }
   ],
   "source": [
    "def calculate_power(base, exponent):\n",
    "    return base**exponent\n",
    "\n",
    "stringvalues = \"2 3\"\n",
    "values = stringvalues.split()\n",
    "values = [int(num) for num in values]\n",
    "print(calculate_power(values[0], values[1]))"
   ]
  },
  {
   "cell_type": "markdown",
   "metadata": {},
   "source": [
    "**Q29. Failing cases**  \n",
    "What does it mean if your code passes custom inputs but fails on private test files?  \n",
    "A. The code needs debugging. This typically indicates that while your code works for the inputs you’ve tested, it may not handle all edge cases or meet all the requirements specified in the private test files. It’s a common part of the development process to debug and improve your code based on test results."
   ]
  },
  {
   "cell_type": "markdown",
   "metadata": {},
   "source": [
    "**Q30. Even odd**  \n",
    "Write a program that accepts the count of test cases t, then for each test case, reads an integer num, checks if it's even using the isEven function, and outputs \"Even\" or \"Odd\" accordingly."
   ]
  },
  {
   "cell_type": "code",
   "execution_count": 37,
   "metadata": {},
   "outputs": [
    {
     "name": "stdout",
     "output_type": "stream",
     "text": [
      "Even\n",
      "Even\n",
      "Odd\n"
     ]
    }
   ],
   "source": [
    "# Define the isEven function\n",
    "def isEven(num):\n",
    "    return num % 2 == 0\n",
    "\n",
    "numbers = [3, 2, 6, 5]\n",
    "\n",
    "# Accept the count of test cases\n",
    "t = int(numbers[0])\n",
    "\n",
    "# Process each test case\n",
    "for i in range(1, t+1):\n",
    "    num = int(numbers[i])\n",
    "    if isEven(num):\n",
    "        print(\"Even\")\n",
    "    else:\n",
    "        print(\"Odd\")"
   ]
  },
  {
   "cell_type": "code",
   "execution_count": null,
   "metadata": {},
   "outputs": [],
   "source": []
  }
 ],
 "metadata": {
  "kernelspec": {
   "display_name": "Python 3 (ipykernel)",
   "language": "python",
   "name": "python3"
  },
  "language_info": {
   "codemirror_mode": {
    "name": "ipython",
    "version": 3
   },
   "file_extension": ".py",
   "mimetype": "text/x-python",
   "name": "python",
   "nbconvert_exporter": "python",
   "pygments_lexer": "ipython3",
   "version": "3.11.7"
  }
 },
 "nbformat": 4,
 "nbformat_minor": 4
}
