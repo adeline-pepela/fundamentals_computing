{
 "cells": [
  {
   "cell_type": "code",
   "execution_count": 10,
   "id": "da66f5fe-b39a-4a7c-b23f-9ddd2e733cdf",
   "metadata": {},
   "outputs": [
    {
     "name": "stdout",
     "output_type": "stream",
     "text": [
      "Come back Adeh\n",
      "Karibu Sana\n"
     ]
    }
   ],
   "source": [
    "#defining functions\n",
    "def welcome(name):\n",
    "    print(\"Come back\", name )\n",
    "    print('Karibu Sana')\n",
    "welcome('Adeh')    \n",
    "    "
   ]
  },
  {
   "cell_type": "code",
   "execution_count": 15,
   "id": "3c1b6eba-c598-4bd6-8ac1-914118d3c549",
   "metadata": {},
   "outputs": [
    {
     "name": "stdout",
     "output_type": "stream",
     "text": [
      "12\n"
     ]
    }
   ],
   "source": [
    "def area_reactangle(a,b):\n",
    "    total_area = a*b\n",
    "    return total_area\n",
    "result = 8 + 4\n",
    "print(result)\n",
    "    "
   ]
  },
  {
   "cell_type": "code",
   "execution_count": 21,
   "id": "3b328987-9c7f-4c8c-8ae7-3f35e9e8ab59",
   "metadata": {},
   "outputs": [
    {
     "ename": "TypeError",
     "evalue": "bad operand type for unary +: 'str'",
     "output_type": "error",
     "traceback": [
      "\u001b[1;31m---------------------------------------------------------------------------\u001b[0m",
      "\u001b[1;31mTypeError\u001b[0m                                 Traceback (most recent call last)",
      "Cell \u001b[1;32mIn[21], line 4\u001b[0m\n\u001b[0;32m      2\u001b[0m     number\u001b[38;5;241m=\u001b[39m \u001b[38;5;28mlen\u001b[39m(name)\u001b[38;5;241m*\u001b[39m\u001b[38;5;241m7\u001b[39m\n\u001b[0;32m      3\u001b[0m     \u001b[38;5;28mprint\u001b[39m(\u001b[38;5;124m'\u001b[39m\u001b[38;5;124mHello\u001b[39m\u001b[38;5;124m'\u001b[39m, \u001b[38;5;241m+\u001b[39m name \u001b[38;5;241m+\u001b[39m \u001b[38;5;124m'\u001b[39m\u001b[38;5;124mYour lucky number is\u001b[39m\u001b[38;5;124m'\u001b[39m \u001b[38;5;241m+\u001b[39m \u001b[38;5;28mstr\u001b[39m(name))\n\u001b[1;32m----> 4\u001b[0m lucky_number(\u001b[38;5;124m'\u001b[39m\u001b[38;5;124mAdeh\u001b[39m\u001b[38;5;124m'\u001b[39m)\n\u001b[0;32m      5\u001b[0m lucky_number(\u001b[38;5;124m'\u001b[39m\u001b[38;5;124mMakokha\u001b[39m\u001b[38;5;124m'\u001b[39m)\n",
      "Cell \u001b[1;32mIn[21], line 3\u001b[0m, in \u001b[0;36mlucky_number\u001b[1;34m(name)\u001b[0m\n\u001b[0;32m      1\u001b[0m \u001b[38;5;28;01mdef\u001b[39;00m \u001b[38;5;21mlucky_number\u001b[39m(name):\n\u001b[0;32m      2\u001b[0m     number\u001b[38;5;241m=\u001b[39m \u001b[38;5;28mlen\u001b[39m(name)\u001b[38;5;241m*\u001b[39m\u001b[38;5;241m7\u001b[39m\n\u001b[1;32m----> 3\u001b[0m     \u001b[38;5;28mprint\u001b[39m(\u001b[38;5;124m'\u001b[39m\u001b[38;5;124mHello\u001b[39m\u001b[38;5;124m'\u001b[39m, \u001b[38;5;241m+\u001b[39m name \u001b[38;5;241m+\u001b[39m \u001b[38;5;124m'\u001b[39m\u001b[38;5;124mYour lucky number is\u001b[39m\u001b[38;5;124m'\u001b[39m \u001b[38;5;241m+\u001b[39m \u001b[38;5;28mstr\u001b[39m(name))\n",
      "\u001b[1;31mTypeError\u001b[0m: bad operand type for unary +: 'str'"
     ]
    }
   ],
   "source": [
    "def lucky_number(name):\n",
    "    number= len(name)*7\n",
    "    print('Hello', + name + 'Your lucky number is' + str(name))\n",
    "lucky_number('Adeh')\n",
    "lucky_number('Makokha')"
   ]
  },
  {
   "cell_type": "code",
   "execution_count": 2,
   "id": "ae50dde6-8124-4ce6-97e0-88e3b1172350",
   "metadata": {},
   "outputs": [
    {
     "name": "stdout",
     "output_type": "stream",
     "text": [
      "True\n"
     ]
    }
   ],
   "source": [
    "print(10>1)"
   ]
  },
  {
   "cell_type": "code",
   "execution_count": 5,
   "id": "1e4c1fc6-6496-4a06-92fc-5637c3c92630",
   "metadata": {},
   "outputs": [
    {
     "name": "stdout",
     "output_type": "stream",
     "text": [
      "True\n"
     ]
    }
   ],
   "source": [
    "print('cat' != 'dog')"
   ]
  },
  {
   "cell_type": "code",
   "execution_count": 17,
   "id": "61802d16-e1f1-463e-b819-1841a9806273",
   "metadata": {},
   "outputs": [
    {
     "name": "stdout",
     "output_type": "stream",
     "text": [
      "Invalid correct. The password is too short !!!\n",
      "Correct Password. The password is correct !!!\n",
      "Password is long !!!\n"
     ]
    }
   ],
   "source": [
    "def hint_username(username):\n",
    "    if len(username) < 10:\n",
    "        print('Invalid correct. The password is too short !!!') \n",
    "    elif len(username) <15: \n",
    "        print('Correct Password. The password is correct !!!')\n",
    "    else:\n",
    "        print('Password is long !!!')\n",
    "        \n",
    "hint_username('Adeh')\n",
    "hint_username('AdehMakokha')\n",
    "hint_username('Passwordtooooooooooolong')"
   ]
  },
  {
   "cell_type": "code",
   "execution_count": 22,
   "id": "30e92a89-c8da-4bc8-90a7-8e0eb9a40d42",
   "metadata": {},
   "outputs": [
    {
     "name": "stdout",
     "output_type": "stream",
     "text": [
      "Not there yet x = 0\n",
      "x =1\n",
      "Not there yet x = 1\n",
      "x =2\n",
      "Not there yet x = 2\n",
      "x =3\n",
      "Not there yet x = 3\n",
      "x =4\n",
      "Not there yet x = 4\n",
      "x =5\n"
     ]
    }
   ],
   "source": [
    "x = 0\n",
    "while x<5:\n",
    "     print('Not there yet x = ' + str(x))\n",
    "     x = x+1\n",
    "     print('x =' +str(x) )"
   ]
  },
  {
   "cell_type": "code",
   "execution_count": 24,
   "id": "56636928-92f7-4294-aef3-82ec84080e91",
   "metadata": {},
   "outputs": [
    {
     "name": "stdout",
     "output_type": "stream",
     "text": [
      "0\n",
      "1\n",
      "2\n",
      "3\n",
      "4\n"
     ]
    }
   ],
   "source": [
    "# for loop \n",
    "for x in range(5):\n",
    "    print(x)\n"
   ]
  },
  {
   "cell_type": "code",
   "execution_count": 4,
   "id": "967019ef-000b-4114-9d7d-584f755f5476",
   "metadata": {},
   "outputs": [
    {
     "name": "stdout",
     "output_type": "stream",
     "text": [
      "Adeh Pepela\n"
     ]
    }
   ],
   "source": [
    "first = \"Adeh\"\n",
    "second = \"Pepela\"\n",
    "print(\"Adeh\"+\" \"+ \"Pepela\")"
   ]
  },
  {
   "cell_type": "code",
   "execution_count": 7,
   "id": "8f46b099-3539-4741-83f9-01efe4e24850",
   "metadata": {},
   "outputs": [
    {
     "name": "stdout",
     "output_type": "stream",
     "text": [
      "Less than 15\n"
     ]
    }
   ],
   "source": [
    "a = 10\n",
    "if a > 10:\n",
    "    print(\"Greater than 15\")\n",
    "else:\n",
    "    print(\"Less than 15\")\n",
    "    \n"
   ]
  },
  {
   "cell_type": "code",
   "execution_count": 11,
   "id": "2e5cdb1b-665a-490e-a4d4-32ed96657763",
   "metadata": {},
   "outputs": [
    {
     "name": "stdout",
     "output_type": "stream",
     "text": [
      "Negative\n"
     ]
    }
   ],
   "source": [
    "x = -2\n",
    "if x > 0:\n",
    "    print(\"Positive\")\n",
    "elif x == 0:\n",
    "    print(\"Zero\")\n",
    "else:\n",
    "    print(\"Negative\")\n",
    "    "
   ]
  },
  {
   "cell_type": "code",
   "execution_count": 12,
   "id": "ed482596-dac3-4464-a67f-75211de3f2d8",
   "metadata": {},
   "outputs": [
    {
     "name": "stdout",
     "output_type": "stream",
     "text": [
      "19\n"
     ]
    }
   ],
   "source": [
    "number = 19\n",
    "print(number)"
   ]
  },
  {
   "cell_type": "code",
   "execution_count": null,
   "id": "522c8177-de71-413f-8e17-308695f53977",
   "metadata": {},
   "outputs": [],
   "source": []
  }
 ],
 "metadata": {
  "kernelspec": {
   "display_name": "Python 3 (ipykernel)",
   "language": "python",
   "name": "python3"
  },
  "language_info": {
   "codemirror_mode": {
    "name": "ipython",
    "version": 3
   },
   "file_extension": ".py",
   "mimetype": "text/x-python",
   "name": "python",
   "nbconvert_exporter": "python",
   "pygments_lexer": "ipython3",
   "version": "3.11.7"
  }
 },
 "nbformat": 4,
 "nbformat_minor": 5
}
