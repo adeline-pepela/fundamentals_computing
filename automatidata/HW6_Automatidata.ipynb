{
  "metadata": {
    "kernelspec": {
      "name": "python",
      "display_name": "Python (Pyodide)",
      "language": "python"
    },
    "language_info": {
      "codemirror_mode": {
        "name": "python",
        "version": 3
      },
      "file_extension": ".py",
      "mimetype": "text/x-python",
      "name": "python",
      "nbconvert_exporter": "python",
      "pygments_lexer": "ipython3",
      "version": "3.8"
    }
  },
  "nbformat_minor": 4,
  "nbformat": 4,
  "cells": [
    {
      "cell_type": "markdown",
      "source": "# Homework 6: Automatidata",
      "metadata": {}
    },
    {
      "cell_type": "code",
      "source": "#Import pandas library",
      "metadata": {
        "trusted": true
      },
      "outputs": [],
      "execution_count": null
    },
    {
      "cell_type": "code",
      "source": "# Load Automatidata dataset (2017 Yellow Taxi Trip data) into dataframe",
      "metadata": {
        "trusted": true
      },
      "outputs": [],
      "execution_count": null
    },
    {
      "cell_type": "code",
      "source": "# By applying method, show first 7 rows in dataframe",
      "metadata": {
        "trusted": true
      },
      "outputs": [],
      "execution_count": null
    },
    {
      "cell_type": "code",
      "source": "# By applying method, show summary information about the dataframe",
      "metadata": {
        "trusted": true
      },
      "outputs": [],
      "execution_count": null
    },
    {
      "cell_type": "code",
      "source": "# By applying attribute, check the list of column labels in dataframe",
      "metadata": {
        "trusted": true
      },
      "outputs": [],
      "execution_count": null
    },
    {
      "cell_type": "code",
      "source": "# By applying attribute, show tuple representing dimensionality \n# (number of rows and columns) of the dataframe",
      "metadata": {
        "trusted": true
      },
      "outputs": [],
      "execution_count": null
    },
    {
      "cell_type": "code",
      "source": "# By applying attribute, show from 1st to 3rd rows\n# You can use either iloc or loc",
      "metadata": {
        "trusted": true
      },
      "outputs": [],
      "execution_count": null
    },
    {
      "cell_type": "code",
      "source": "# Show 'TripId', 'trip_distance', and 'fare_amount' of 100th to 103th row\n# You can use either iloc or loc",
      "metadata": {
        "trusted": true
      },
      "outputs": [],
      "execution_count": null
    },
    {
      "cell_type": "code",
      "source": "# Show the total_amount of 12000th row\n# You can use either iloc or loc",
      "metadata": {
        "trusted": true
      },
      "outputs": [],
      "execution_count": null
    },
    {
      "cell_type": "code",
      "source": "# Add a new column 'percent_tip' which is computed by: (tip_amount/total_amount)*100 to dataframe\n# to show the percentage of tip paid realtive to total amount.\n# Then show first 5 rows of dataframe.",
      "metadata": {
        "trusted": true
      },
      "outputs": [],
      "execution_count": null
    }
  ]
}