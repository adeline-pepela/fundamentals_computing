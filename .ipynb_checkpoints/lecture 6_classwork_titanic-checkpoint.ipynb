{
  "metadata": {
    "kernelspec": {
      "name": "python",
      "display_name": "Python (Pyodide)",
      "language": "python"
    },
    "language_info": {
      "codemirror_mode": {
        "name": "python",
        "version": 3
      },
      "file_extension": ".py",
      "mimetype": "text/x-python",
      "name": "python",
      "nbconvert_exporter": "python",
      "pygments_lexer": "ipython3",
      "version": "3.8"
    }
  },
  "nbformat_minor": 4,
  "nbformat": 4,
  "cells": [
    {
      "cell_type": "markdown",
      "source": "# Pandas Basics: Class Work with Titanic Data",
      "metadata": {}
    },
    {
      "cell_type": "code",
      "source": "#Import pandas library",
      "metadata": {
        "trusted": true
      },
      "outputs": [],
      "execution_count": null
    },
    {
      "cell_type": "code",
      "source": "# Load titanic dataset into dataframe",
      "metadata": {
        "trusted": true
      },
      "outputs": [],
      "execution_count": null
    },
    {
      "cell_type": "code",
      "source": "# By applying method, show first 7 rows in dataframe",
      "metadata": {
        "trusted": true
      },
      "outputs": [],
      "execution_count": null
    },
    {
      "cell_type": "code",
      "source": "# By applying method, show summary information about the dataframe",
      "metadata": {
        "trusted": true
      },
      "outputs": [],
      "execution_count": null
    },
    {
      "cell_type": "code",
      "source": "# By applying attribute, check the list of column labels in dataframe",
      "metadata": {
        "trusted": true
      },
      "outputs": [],
      "execution_count": null
    },
    {
      "cell_type": "code",
      "source": "# By applying attribute, show tuple representing dimensionality \n# (number of rows and columns) of the dataframe",
      "metadata": {
        "trusted": true
      },
      "outputs": [],
      "execution_count": null
    },
    {
      "cell_type": "code",
      "source": "# Slice a column named 'Fare'",
      "metadata": {
        "trusted": true
      },
      "outputs": [],
      "execution_count": null
    },
    {
      "cell_type": "code",
      "source": "# Select 'Name' and 'Age' columns of dataframe and return a \n# views of dataframe as a new DataFrame object",
      "metadata": {
        "trusted": true
      },
      "outputs": [],
      "execution_count": null
    },
    {
      "cell_type": "code",
      "source": "# Apply iloc attribute to dataframe and show a SERIES OBJECT\n# representing a passenger whose passengerID is 3 (3rd row)",
      "metadata": {
        "trusted": true
      },
      "outputs": [],
      "execution_count": null
    },
    {
      "cell_type": "code",
      "source": "# Apply iloc attribute to dataframe and show a DATAFRAME OBJECT\n# representing a passenger whose passengerID is 3 (3rd row)",
      "metadata": {
        "trusted": true
      },
      "outputs": [],
      "execution_count": null
    },
    {
      "cell_type": "code",
      "source": "# Apply iloc attribute to dataframe and show all rows for a column 'Name'",
      "metadata": {
        "trusted": true
      },
      "outputs": [],
      "execution_count": null
    },
    {
      "cell_type": "code",
      "source": "# By applying attribute, show from 3rd to 5th rows (passengerID 3-5)\n# You can use either iloc or loc",
      "metadata": {
        "trusted": true
      },
      "outputs": [],
      "execution_count": null
    },
    {
      "cell_type": "code",
      "source": "# Show 'PassengerId', 'Name', and 'Age' of passengerID 10-13 (10th to 13th row)\n# You can use either iloc or loc",
      "metadata": {
        "trusted": true
      },
      "outputs": [],
      "execution_count": null
    },
    {
      "cell_type": "code",
      "source": "# Show the name of passengerID 100\n# You can use either iloc or loc",
      "metadata": {
        "trusted": true
      },
      "outputs": [],
      "execution_count": null
    },
    {
      "cell_type": "code",
      "source": "# Add a new column '2024_Fare' which is computed by: 'Fare'*146.14 to dataframe\n# to show the inflation adjusted price of a ticket from 1912 to 2024.\n# Then show first 5 rows of dataframe.",
      "metadata": {
        "trusted": true
      },
      "outputs": [],
      "execution_count": null
    }
  ]
}