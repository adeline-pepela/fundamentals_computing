{
  "metadata": {
    "kernelspec": {
      "name": "python",
      "display_name": "Python (Pyodide)",
      "language": "python"
    },
    "language_info": {
      "codemirror_mode": {
        "name": "python",
        "version": 3
      },
      "file_extension": ".py",
      "mimetype": "text/x-python",
      "name": "python",
      "nbconvert_exporter": "python",
      "pygments_lexer": "ipython3",
      "version": "3.8"
    }
  },
  "nbformat_minor": 4,
  "nbformat": 4,
  "cells": [
    {
      "cell_type": "markdown",
      "source": "# Python Coding Mini Test",
      "metadata": {}
    },
    {
      "cell_type": "markdown",
      "source": "**Q1. Print 6 divided by 2**",
      "metadata": {}
    },
    {
      "cell_type": "code",
      "source": "print(6/2)",
      "metadata": {
        "trusted": true
      },
      "outputs": [
        {
          "name": "stdout",
          "text": "3.0\n",
          "output_type": "stream"
        }
      ],
      "execution_count": 1
    },
    {
      "cell_type": "markdown",
      "source": "**Q2. Guess the Output**  \nWhat will the following code output?",
      "metadata": {}
    },
    {
      "cell_type": "code",
      "source": "print(\"Hello\")\nprint(\" World!\")",
      "metadata": {
        "trusted": true
      },
      "outputs": [
        {
          "name": "stdout",
          "text": "Hello\n World!\n",
          "output_type": "stream"
        }
      ],
      "execution_count": 2
    },
    {
      "cell_type": "markdown",
      "source": "**Q3. Print Squares**  \nWrite a program to output the squares (using multiplication) of numbers from 1 to 5 on separate lines.",
      "metadata": {}
    },
    {
      "cell_type": "code",
      "source": "for x in range(1, 6):\n    square = x**2\n    print(f'{x}-{square}')",
      "metadata": {
        "trusted": true
      },
      "outputs": [
        {
          "name": "stdout",
          "text": "1-1\n2-4\n3-9\n4-16\n5-25\n",
          "output_type": "stream"
        }
      ],
      "execution_count": 3
    },
    {
      "cell_type": "markdown",
      "source": "**Q4. Declare Long Data Type**  \nHow do you declare a variable of type long storing the value 954200?",
      "metadata": {}
    },
    {
      "cell_type": "code",
      "source": "#In Python 3, you don’t need to explicitly declare a variable type. \n#Python is dynamically typed, which means that you can assign any value to a variable, \n#and Python will handle the type internally. For a long integer value like 954200, you \n#can simply assign it to a variable.\n\nnum = 954200",
      "metadata": {
        "trusted": true
      },
      "outputs": [],
      "execution_count": 4
    },
    {
      "cell_type": "markdown",
      "source": "**Q5. Divide Two Variables**  \nDeclare two variables x and y, and assign 20 to x and 6 to y.  \nDivide x by y (i.e. perform integer division x//y) and print the result.",
      "metadata": {}
    },
    {
      "cell_type": "code",
      "source": "x = 20\ny = 6\nprint(x//y)",
      "metadata": {
        "trusted": true
      },
      "outputs": [
        {
          "name": "stdout",
          "text": "3\n",
          "output_type": "stream"
        }
      ],
      "execution_count": 5
    },
    {
      "cell_type": "markdown",
      "source": "**Q6. Add space between strings**  \nHow would you add a space between two strings \"first\" and \"second\"?",
      "metadata": {}
    },
    {
      "cell_type": "code",
      "source": "first = \"first\"\nsecond = \"second\"\n\nfirst+\" \"+second",
      "metadata": {
        "trusted": true
      },
      "outputs": [
        {
          "execution_count": 6,
          "output_type": "execute_result",
          "data": {
            "text/plain": "'first second'"
          },
          "metadata": {}
        }
      ],
      "execution_count": 6
    },
    {
      "cell_type": "markdown",
      "source": "**Q7. Print the length**  \nWrite a program to print the length of each word of the sentence given below as well as the length of the whole sentence.",
      "metadata": {}
    },
    {
      "cell_type": "code",
      "source": "sentence = \"Coding on CodeChef\"\nsplit = sentence.split()\nfor element in split:\n    length = len(element)\n    print(f'{element}-{length}')\nlength = len(sentence)\nprint(f'{sentence}-{length}')",
      "metadata": {
        "trusted": true
      },
      "outputs": [
        {
          "name": "stdout",
          "text": "Coding-6\non-2\nCodeChef-8\nCoding on CodeChef-18\n",
          "output_type": "stream"
        }
      ],
      "execution_count": 11
    },
    {
      "cell_type": "markdown",
      "source": "**Q8. Guess the output**  \nWhat is the output of the following code?",
      "metadata": {}
    },
    {
      "cell_type": "code",
      "source": "x = int(2.3)\ny = int(1.4)\nprint(x)\nprint(y)\nprint(x+y)\n#it prints the sum of x and y",
      "metadata": {
        "trusted": true
      },
      "outputs": [
        {
          "name": "stdout",
          "text": "2\n1\n3\n",
          "output_type": "stream"
        }
      ],
      "execution_count": 12
    },
    {
      "cell_type": "markdown",
      "source": "**Q9. Scope of Code**  \nHow is the scope of code defined?  \n\n  In Python 3, the scope of a variable is determined by the place in the code where you define it, which is known as the variable’s namespace.  \n  So, the answer is: Tabs",
      "metadata": {}
    },
    {
      "cell_type": "markdown",
      "source": "**Q10. Guess the output**  \nWhat will be the output of the following code?",
      "metadata": {}
    },
    {
      "cell_type": "code",
      "source": "a = 15\nif a > 10:\n    print(\"Greater than 10\")\nif a > 5:\n    print(\"Greater than 5\")",
      "metadata": {
        "trusted": true
      },
      "outputs": [
        {
          "name": "stdout",
          "text": "Greater than 10\nGreater than 5\n",
          "output_type": "stream"
        }
      ],
      "execution_count": 13
    },
    {
      "cell_type": "markdown",
      "source": "**Q11. Positive and Negative**  \nWrite a program to check whether a number given as user input is positive, negative, or zero.",
      "metadata": {}
    },
    {
      "cell_type": "code",
      "source": "# x = 20\n# x = 0\nx = -95\nif x > 0:\n    print(\"Positive\")\nelif x == 0:\n    print(\"Zero\")\nelse:\n    print(\"Negative\")",
      "metadata": {
        "trusted": true
      },
      "outputs": [
        {
          "name": "stdout",
          "text": "Negative\n",
          "output_type": "stream"
        }
      ],
      "execution_count": 15
    },
    {
      "cell_type": "markdown",
      "source": "**Q12. Guess the output**  \nWhat does the following code snippet do?",
      "metadata": {}
    },
    {
      "cell_type": "code",
      "source": "x = -5\n#x = 0\n#x = 5\nif not (x>0): #! is not used in Python to negate the statement\n    print(\"Not Positive\")",
      "metadata": {
        "trusted": true
      },
      "outputs": [
        {
          "name": "stdout",
          "text": "Not Positive\n",
          "output_type": "stream"
        }
      ],
      "execution_count": 37
    },
    {
      "cell_type": "markdown",
      "source": "**Q13. Increase or Decrease**  \nWrite a program that takes three space separated numbers as input.\n- Prints \"Increasing\" if the numbers are in strictly increasing order,\n- Decreasing\" if they are in strictly decreasing order,\n- and \"Neither\" otherwise.",
      "metadata": {}
    },
    {
      "cell_type": "code",
      "source": "# Get input from the user\n#three_number = \"20 30 41\"\n#three_number = \"50 30 20\"\nthree_number = \"23 42 30\"\nnumbers = three_number.split()\n\n# Convert input strings to integers\nnum1, num2, num3 = map(int, numbers)\n\n# Check the order of the numbers\nif num1 < num2 < num3:\n    print(\"Increasing\")\nelif num1 > num2 > num3:\n    print(\"Decreasing\")\nelse:\n    print(\"Neither\")",
      "metadata": {
        "trusted": true
      },
      "outputs": [
        {
          "name": "stdout",
          "text": "Neither\n",
          "output_type": "stream"
        }
      ],
      "execution_count": 18
    },
    {
      "cell_type": "markdown",
      "source": "**Q14. Tuple_Output**  \nWhat does the following code snippet do?",
      "metadata": {}
    },
    {
      "cell_type": "code",
      "source": "my_tuple = (1, 2, 3)\nmy_tuple[1] = 4\nprint(my_tuple)",
      "metadata": {
        "trusted": true
      },
      "outputs": [
        {
          "ename": "<class 'TypeError'>",
          "evalue": "'tuple' object does not support item assignment",
          "traceback": [
            "\u001b[0;31m---------------------------------------------------------------------------\u001b[0m",
            "\u001b[0;31mTypeError\u001b[0m                                 Traceback (most recent call last)",
            "Cell \u001b[0;32mIn[19], line 2\u001b[0m\n\u001b[1;32m      1\u001b[0m my_tuple \u001b[38;5;241m=\u001b[39m (\u001b[38;5;241m1\u001b[39m, \u001b[38;5;241m2\u001b[39m, \u001b[38;5;241m3\u001b[39m)\n\u001b[0;32m----> 2\u001b[0m \u001b[43mmy_tuple\u001b[49m\u001b[43m[\u001b[49m\u001b[38;5;241;43m1\u001b[39;49m\u001b[43m]\u001b[49m \u001b[38;5;241m=\u001b[39m \u001b[38;5;241m4\u001b[39m\n\u001b[1;32m      3\u001b[0m \u001b[38;5;28mprint\u001b[39m(my_tuple)\n",
            "\u001b[0;31mTypeError\u001b[0m: 'tuple' object does not support item assignment"
          ],
          "output_type": "error"
        }
      ],
      "execution_count": 19
    },
    {
      "cell_type": "markdown",
      "source": "**Q15. Dictionary Filtering**  \nWrite a Python function filter_dict(dictionary, keys) that takes a dictionary and a list of keys as input and  \nreturns a new dictionary containing only the key-value pairs where the key is present in the provided list.",
      "metadata": {}
    },
    {
      "cell_type": "code",
      "source": "def filter_dict(dictionary, keys):\n    # Create a new dictionary with key-value pairs where the key is in the keys list\n    return {k: dictionary[k] for k in keys if k in dictionary}\n    \n# Test\ndictionary = {\"a\": 1, \"b\": 2, \"c\": 3, \"d\": 4}\nkeys = [\"a\", \"c\", \"e\"]\nprint(filter_dict(dictionary, keys))",
      "metadata": {
        "trusted": true
      },
      "outputs": [
        {
          "name": "stdout",
          "text": "{'a': 1, 'c': 3}\n",
          "output_type": "stream"
        }
      ],
      "execution_count": 20
    },
    {
      "cell_type": "markdown",
      "source": "**Q16. Compilation error**  \nHow do you identify a compilation error?  \nA. In Python, you would identify a compilation error by option 3. error messages during compilation. Python is an interpreted language, and while it doesn’t have a compilation phase in the same way that compiled languages like C or Java do, syntax errors and other compilation-related issues are checked before runtime. If there’s a problem with the syntax, Python will raise an error message during this initial parsing phase, which can be thought of as the “compilation” step for interpreted languages. This is when you would catch errors such as missing parentheses, incorrect indentation, or other syntax issues that prevent the script from being executed.",
      "metadata": {}
    },
    {
      "cell_type": "markdown",
      "source": "**Q17. Identify the error**  \nIdentify and correct the error in the following code (in the IDE).",
      "metadata": {}
    },
    {
      "cell_type": "code",
      "source": "Number = 19 # Number should be number\nprint(number)",
      "metadata": {
        "trusted": true
      },
      "outputs": [
        {
          "ename": "<class 'NameError'>",
          "evalue": "name 'number' is not defined",
          "traceback": [
            "\u001b[0;31m---------------------------------------------------------------------------\u001b[0m",
            "\u001b[0;31mNameError\u001b[0m                                 Traceback (most recent call last)",
            "Cell \u001b[0;32mIn[21], line 2\u001b[0m\n\u001b[1;32m      1\u001b[0m Number \u001b[38;5;241m=\u001b[39m \u001b[38;5;241m19\u001b[39m \u001b[38;5;66;03m# Number should be number\u001b[39;00m\n\u001b[0;32m----> 2\u001b[0m \u001b[38;5;28mprint\u001b[39m(\u001b[43mnumber\u001b[49m)\n",
            "\u001b[0;31mNameError\u001b[0m: name 'number' is not defined"
          ],
          "output_type": "error"
        }
      ],
      "execution_count": 21
    },
    {
      "cell_type": "markdown",
      "source": "**Q18. Identify the error**  \nRectify the errors in the program to get the desired output.",
      "metadata": {}
    },
    {
      "cell_type": "code",
      "source": "#choice = 1\n#choice = 2\n#choice = 3\nchoice = 4\n\nif choice == 1:\n    print(\"Option 1 selected\")\nelif choice == 1:  #1 should be replaced with 2\n    print(\"Option 2 selected\")\nelif choice == 3:\n    print(\"Option 3 selected\")\nelse:\n    print(\"Invalid choice\")",
      "metadata": {
        "trusted": true
      },
      "outputs": [
        {
          "name": "stdout",
          "text": "Invalid choice\n",
          "output_type": "stream"
        }
      ],
      "execution_count": 23
    },
    {
      "cell_type": "markdown",
      "source": "**Q19. Guess the output**  \nWhat is the output of the following code?",
      "metadata": {}
    },
    {
      "cell_type": "code",
      "source": "data = [2, 4, 6, 8, 10]\nprint(data[0] + data[3])",
      "metadata": {
        "trusted": true
      },
      "outputs": [
        {
          "name": "stdout",
          "text": "10\n",
          "output_type": "stream"
        }
      ],
      "execution_count": 24
    },
    {
      "cell_type": "markdown",
      "source": "**Q20. Multiply elements**  \nWrite a program to declare and accept an array / list of N space separate integers.  \nCalculate the multiplication of the 1st and 3rd elements of the array and output the same to the console.",
      "metadata": {}
    },
    {
      "cell_type": "code",
      "source": "# Accept a list of space-separated integers from the user\nnumbers = \"10 12 25 9 20\"\nnumbers = numbers.split()\n\n# Convert the input strings to integers\nnumbers = [int(num) for num in numbers]\n\n# Check if there are at least three elements\nif len(numbers) >= 3:\n    # Calculate the multiplication of the 1st and 3rd elements\n    result = numbers[0] * numbers[2]\n    print(result)\nelse:\n    print(\"Please enter at least three integers.\")",
      "metadata": {
        "trusted": true
      },
      "outputs": [
        {
          "name": "stdout",
          "text": "250\n",
          "output_type": "stream"
        }
      ],
      "execution_count": 25
    },
    {
      "cell_type": "markdown",
      "source": "**Q21. Guess the output**  \nWhat happens if the initial condition of a while loop is false?  \nA. If the initial condition of a while loop is false, then option 3 is correct: the loop is skipped, and the code inside is not executed. The while loop checks the condition before executing the block of code inside it, and if the condition is false from the beginning, the loop’s body will not run even once.",
      "metadata": {}
    },
    {
      "cell_type": "markdown",
      "source": "**Q22. Print factorial**  \nWrite a program that uses a while loop to find the factorial of a given number.",
      "metadata": {}
    },
    {
      "cell_type": "code",
      "source": "# Function to calculate factorial\ndef factorial(number):\n    if number < 0:\n        return \"Factorial does not exist for negative numbers.\"\n    elif number == 0:\n        return 1\n    else:\n        result = 1\n        while number > 0:\n            result = result*number\n            number = number - 1\n        return result\n\nprint(factorial(5))",
      "metadata": {
        "trusted": true
      },
      "outputs": [
        {
          "name": "stdout",
          "text": "120\n",
          "output_type": "stream"
        }
      ],
      "execution_count": 26
    },
    {
      "cell_type": "markdown",
      "source": "**Q23. Number of executions**  \nIn a FOR loop, how many times does argument 1 of the range function get used?  \nA. So, the argument 1 of the range function gets used to generate a sequence with a single element (0), and the loop body executes once.",
      "metadata": {}
    },
    {
      "cell_type": "code",
      "source": "for i in range(1):\n    print(i)",
      "metadata": {
        "trusted": true
      },
      "outputs": [
        {
          "name": "stdout",
          "text": "0\n",
          "output_type": "stream"
        }
      ],
      "execution_count": 27
    },
    {
      "cell_type": "markdown",
      "source": "**Q24. Sum of numbers**  \nWrite a program using a for loop to calculate the sum of the first N natural numbers.",
      "metadata": {}
    },
    {
      "cell_type": "code",
      "source": "def sum_of_naturals(N):\n    total = 0\n    for number in range(1, N + 1):\n        total = total + number\n    return total\n\nprint(sum_of_naturals(10))",
      "metadata": {
        "trusted": true
      },
      "outputs": [
        {
          "name": "stdout",
          "text": "55\n",
          "output_type": "stream"
        }
      ],
      "execution_count": 29
    },
    {
      "cell_type": "markdown",
      "source": "**Q25. Guess the output**  \nHow does the continue statement affect the loop?  \nA. Continues to the next iteration when i is equal to 2",
      "metadata": {}
    },
    {
      "cell_type": "code",
      "source": "for i in range(5):\n    if i == 2:\n        continue\n    print(i, end=\" \")",
      "metadata": {
        "trusted": true
      },
      "outputs": [
        {
          "name": "stdout",
          "text": "0 1 3 4 ",
          "output_type": "stream"
        }
      ],
      "execution_count": 32
    },
    {
      "cell_type": "markdown",
      "source": "**Q26. Square of numbers**  \nWrite a program that uses a for-each loop to print the square of each element in list of N space separated integers, but skips elements greater than 10.",
      "metadata": {}
    },
    {
      "cell_type": "code",
      "source": "stringnumber = \"2 10 12 6 15\"\nnumbers = stringnumber.split()\nnumbers = [int(num) for num in numbers]\n\n# Use a for-each loop to iterate through the list\nfor num in numbers:\n    # Skip elements greater than 10\n    if num > 10:\n        continue\n    # Print the square of the element\n    print(num**2)",
      "metadata": {
        "trusted": true
      },
      "outputs": [
        {
          "name": "stdout",
          "text": "4\n100\n36\n",
          "output_type": "stream"
        }
      ],
      "execution_count": 34
    },
    {
      "cell_type": "markdown",
      "source": "**Q27. Return Statement**  \nWhat is the purpose of the return statement in a function?  \nA. To provide a value back to the caller. When a return statement is executed, the function ends, and the value specified in the return statement is passed back to the place where the function was called.",
      "metadata": {}
    },
    {
      "cell_type": "markdown",
      "source": "**Q28. Calculate power**  \nWrite a function named calculatePower that takes two integer, base and exponent respectively, and returns the result of raising base to the power of exponent.",
      "metadata": {}
    },
    {
      "cell_type": "code",
      "source": "def calculate_power(base, exponent):\n    return base**exponent\n\nstringvalues = \"2 3\"\nvalues = stringvalues.split()\nvalues = [int(num) for num in values]\nprint(calculate_power(values[0], values[1]))",
      "metadata": {
        "trusted": true
      },
      "outputs": [
        {
          "name": "stdout",
          "text": "8\n",
          "output_type": "stream"
        }
      ],
      "execution_count": 36
    },
    {
      "cell_type": "markdown",
      "source": "**Q29. Failing cases**  \nWhat does it mean if your code passes custom inputs but fails on private test files?  \nA. The code needs debugging. This typically indicates that while your code works for the inputs you’ve tested, it may not handle all edge cases or meet all the requirements specified in the private test files. It’s a common part of the development process to debug and improve your code based on test results.",
      "metadata": {}
    },
    {
      "cell_type": "markdown",
      "source": "**Q30. Even odd**  \nWrite a program that accepts the count of test cases t, then for each test case, reads an integer num, checks if it's even using the isEven function, and outputs \"Even\" or \"Odd\" accordingly.",
      "metadata": {}
    },
    {
      "cell_type": "code",
      "source": "# Define the isEven function\ndef isEven(num):\n    return num % 2 == 0\n\nnumbers = [3, 2, 6, 5]\n\n# Accept the count of test cases\nt = int(numbers[0])\n\n# Process each test case\nfor i in range(1, t+1):\n    num = int(numbers[i])\n    if isEven(num):\n        print(\"Even\")\n    else:\n        print(\"Odd\")",
      "metadata": {
        "trusted": true
      },
      "outputs": [
        {
          "name": "stdout",
          "text": "Even\nEven\nOdd\n",
          "output_type": "stream"
        }
      ],
      "execution_count": 37
    },
    {
      "cell_type": "code",
      "source": "",
      "metadata": {
        "trusted": true
      },
      "outputs": [],
      "execution_count": null
    }
  ]
}