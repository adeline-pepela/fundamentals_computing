{
 "cells": [
  {
   "cell_type": "markdown",
   "metadata": {},
   "source": [
    "# Numpy and Array\n",
    "### Useful Python Functions: map() and lambda function\n",
    "#### 1. map() function\n",
    "map(*function*, *iterables*)"
   ]
  },
  {
   "cell_type": "code",
   "execution_count": null,
   "metadata": {},
   "outputs": [],
   "source": [
    "a = ['1', '2', '3']\n",
    "\n",
    "b = map(int, a) # we used the built-in int function\n",
    "b # it returns the map object, but not the new list"
   ]
  },
  {
   "cell_type": "code",
   "execution_count": null,
   "metadata": {},
   "outputs": [],
   "source": [
    "list(b) # list function returns the list"
   ]
  },
  {
   "cell_type": "code",
   "execution_count": null,
   "metadata": {},
   "outputs": [],
   "source": [
    "# we can use own function as an argument of map function\n",
    "b = [1,2,3]\n",
    "\n",
    "def square(x):\n",
    "    return x**2\n",
    "\n",
    "c = map(square, b)\n",
    "c"
   ]
  },
  {
   "cell_type": "code",
   "execution_count": null,
   "metadata": {},
   "outputs": [],
   "source": [
    "list(c)"
   ]
  },
  {
   "cell_type": "markdown",
   "metadata": {},
   "source": [
    "#### 2. lambda function\n",
    "lambda *arguments* : *expression*"
   ]
  },
  {
   "cell_type": "code",
   "execution_count": null,
   "metadata": {},
   "outputs": [],
   "source": [
    "my_function = lambda a : a + 10\n",
    "my_function(5)"
   ]
  },
  {
   "cell_type": "code",
   "execution_count": null,
   "metadata": {},
   "outputs": [],
   "source": [
    "list_j = [2,3,4]\n",
    "list_k = map(my_function, list_j)\n",
    "list(list_k)"
   ]
  },
  {
   "cell_type": "code",
   "execution_count": null,
   "metadata": {},
   "outputs": [],
   "source": [
    "list_j = [2,3,4]\n",
    "list_k = map(lambda a : a + 10, list_j)\n",
    "list(list_k)"
   ]
  },
  {
   "cell_type": "code",
   "execution_count": null,
   "metadata": {},
   "outputs": [],
   "source": [
    "my_function = lambda a, b : a * b\n",
    "my_function(5, 6)"
   ]
  },
  {
   "cell_type": "code",
   "execution_count": null,
   "metadata": {},
   "outputs": [],
   "source": [
    "list_j = [2,3,4]\n",
    "list_k = [5,4,3]\n",
    "list_l = map(lambda a, b : a * b, list_j, list_k)\n",
    "list(list_l)"
   ]
  },
  {
   "cell_type": "markdown",
   "metadata": {},
   "source": [
    "### <span style=\"color:yellow\">Example I. You want to generate list_b from list_a.</span>  \n",
    "### <span style=\"color:yellow\">list_a = [1, 2, 3], list_b = [2, 4, 6]</span>"
   ]
  },
  {
   "cell_type": "markdown",
   "metadata": {},
   "source": [
    "#### Method 1. Create empty list called list_b. Then using for loop, iterate each element in list_a, for each element in list_a, multiply element by 2, and append to the newly created list, list_b."
   ]
  },
  {
   "cell_type": "code",
   "execution_count": null,
   "metadata": {},
   "outputs": [],
   "source": [
    "list_a = [1,2,3]\n",
    "\n",
    "list_b = [] # create an empty list called list_b\n",
    "for x in list_a:  # using for loop, iterate each element in list_a\n",
    "    list_b.append(x*2)  # multiply element by 2, and append to the newly created list\n",
    "\n",
    "list_b"
   ]
  },
  {
   "cell_type": "markdown",
   "metadata": {},
   "source": [
    "#### Method 2. Generate own function called double and apply [map() function](https://www.w3schools.com/python/ref_func_map.asp) using double function as the first argument of map() function."
   ]
  },
  {
   "cell_type": "code",
   "execution_count": null,
   "metadata": {},
   "outputs": [],
   "source": [
    "list_a = [1,2,3]\n",
    "def double(x):\n",
    "    return 2*x\n",
    "\n",
    "list_b = map(double, list_a)\n",
    "list_b"
   ]
  },
  {
   "cell_type": "code",
   "execution_count": null,
   "metadata": {},
   "outputs": [],
   "source": [
    "list(list_b)"
   ]
  },
  {
   "cell_type": "markdown",
   "metadata": {},
   "source": [
    "#### Method 3. Apply map() function using [lambda function](https://www.w3schools.com/python/python_lambda.asp) as the first argument of map() function."
   ]
  },
  {
   "cell_type": "code",
   "execution_count": null,
   "metadata": {},
   "outputs": [],
   "source": [
    "list_a = [1,2,3]\n",
    "list_b = map(lambda a: a*2, list_a)\n",
    "list_b"
   ]
  },
  {
   "cell_type": "code",
   "execution_count": null,
   "metadata": {},
   "outputs": [],
   "source": [
    "list(list_b)"
   ]
  },
  {
   "cell_type": "markdown",
   "metadata": {},
   "source": [
    "#### Method 4. Generate dataframe using dictionary. Then apply pandas dataframe method."
   ]
  },
  {
   "cell_type": "code",
   "execution_count": null,
   "metadata": {},
   "outputs": [],
   "source": [
    "data = {'list_a':[1,2,3]}\n",
    "\n",
    "import pandas as pd\n",
    "\n",
    "df = pd.DataFrame(data)\n",
    "df"
   ]
  },
  {
   "cell_type": "code",
   "execution_count": null,
   "metadata": {},
   "outputs": [],
   "source": [
    "df['list_b'] = df['list_a']*2\n",
    "df['list_b']"
   ]
  },
  {
   "cell_type": "code",
   "execution_count": null,
   "metadata": {},
   "outputs": [],
   "source": [
    "list_b = df['list_b'].tolist()\n",
    "list_b"
   ]
  },
  {
   "cell_type": "markdown",
   "metadata": {},
   "source": [
    "#### Method 5. Use Numpy array operation."
   ]
  },
  {
   "cell_type": "code",
   "execution_count": null,
   "metadata": {},
   "outputs": [],
   "source": [
    "import numpy as np\n",
    "\n",
    "list_a = [1,2,3]\n",
    "array_a = np.array(list_a)\n",
    "array_b = array_a*2\n",
    "array_b"
   ]
  },
  {
   "cell_type": "code",
   "execution_count": null,
   "metadata": {},
   "outputs": [],
   "source": [
    "list_b = list(array_b)\n",
    "list_b"
   ]
  },
  {
   "cell_type": "markdown",
   "metadata": {},
   "source": [
    "### <span style=\"color:yellow\">Example II. You want to generate list_c from list_a and list_b.</span>  \n",
    "### <span style=\"color:yellow\">list_a = [1, 2, 3], list_b = [2, 4, 6], list_c = [2, 8, 18]</span>"
   ]
  },
  {
   "cell_type": "markdown",
   "metadata": {},
   "source": [
    "#### Method 1. Create empty list called list_c. Then using for loop, iterate each element in list_a and list_b, for each element in list_a and list_b, multiply, and append to the newly created list."
   ]
  },
  {
   "cell_type": "code",
   "execution_count": null,
   "metadata": {},
   "outputs": [],
   "source": [
    "list_a = [1,2,3]\n",
    "list_b = [2,4,6]\n",
    "\n",
    "list_c = [] # create an empty list called list_c\n",
    "for ___ in range(____):  # using for loop, iterate each element in list_a and list_b\n",
    "    ________(______*______)\n",
    "\n",
    "list_c"
   ]
  },
  {
   "cell_type": "markdown",
   "metadata": {},
   "source": [
    "#### Method 2. Generate own function called double and apply [map() function](https://www.w3schools.com/python/ref_func_map.asp) using double function as the first argument of map() function."
   ]
  },
  {
   "cell_type": "code",
   "execution_count": null,
   "metadata": {},
   "outputs": [],
   "source": [
    "list_a = [1,2,3]\n",
    "list_b = [2,4,6]\n",
    "\n",
    "def multiply(x,y):\n",
    "    return ______\n",
    "\n",
    "list_c = map(_____, _____, ______)\n",
    "list_c"
   ]
  },
  {
   "cell_type": "code",
   "execution_count": null,
   "metadata": {},
   "outputs": [],
   "source": [
    "list(list_c)"
   ]
  },
  {
   "cell_type": "markdown",
   "metadata": {},
   "source": [
    "#### Method 3. Apply map() function using [lambda function](https://www.w3schools.com/python/python_lambda.asp) as the first argument of map() function."
   ]
  },
  {
   "cell_type": "code",
   "execution_count": 48,
   "metadata": {},
   "outputs": [
    {
     "data": {
      "text/plain": [
       "<map at 0x179c5f9c100>"
      ]
     },
     "execution_count": 48,
     "metadata": {},
     "output_type": "execute_result"
    }
   ],
   "source": [
    "list_a = [1,2,3]\n",
    "list_b = [2,4,6]\n",
    "list_c = map(lambda ______: _____, _____, _____)\n",
    "list_c"
   ]
  },
  {
   "cell_type": "code",
   "execution_count": null,
   "metadata": {},
   "outputs": [],
   "source": [
    "list(list_c)"
   ]
  },
  {
   "cell_type": "markdown",
   "metadata": {},
   "source": [
    "#### Method 4. Generate dataframe using dictionary. Then apply pandas dataframe method."
   ]
  },
  {
   "cell_type": "code",
   "execution_count": null,
   "metadata": {},
   "outputs": [],
   "source": [
    "data = {'list_a':[1,2,3],\n",
    "        'list_b':[2,4,6]\n",
    "        }\n",
    "\n",
    "import pandas as pd\n",
    "\n",
    "df = pd._______(_____)\n",
    "df"
   ]
  },
  {
   "cell_type": "code",
   "execution_count": null,
   "metadata": {},
   "outputs": [],
   "source": [
    "df['list_c'] = ________*________\n",
    "df['list_c']"
   ]
  },
  {
   "cell_type": "code",
   "execution_count": null,
   "metadata": {},
   "outputs": [],
   "source": [
    "list_c = df['list_c'].________\n",
    "list_c"
   ]
  },
  {
   "cell_type": "markdown",
   "metadata": {},
   "source": [
    "#### Method 5. Use Numpy array operation."
   ]
  },
  {
   "cell_type": "code",
   "execution_count": null,
   "metadata": {},
   "outputs": [],
   "source": [
    "import numpy as np\n",
    "\n",
    "list_a = [1,2,3]\n",
    "list_b = [2,4,6]\n",
    "array_a = ______(______)\n",
    "array_b = ______(______)\n",
    "array_c = ______*______\n",
    "array_c"
   ]
  },
  {
   "cell_type": "code",
   "execution_count": null,
   "metadata": {},
   "outputs": [],
   "source": [
    "list_c = _____(_____)\n",
    "list_c"
   ]
  },
  {
   "cell_type": "code",
   "execution_count": null,
   "metadata": {},
   "outputs": [],
   "source": []
  }
 ],
 "metadata": {
  "kernelspec": {
   "display_name": "Python 3",
   "language": "python",
   "name": "python3"
  },
  "language_info": {
   "codemirror_mode": {
    "name": "ipython",
    "version": 3
   },
   "file_extension": ".py",
   "mimetype": "text/x-python",
   "name": "python",
   "nbconvert_exporter": "python",
   "pygments_lexer": "ipython3",
   "version": "3.12.3"
  }
 },
 "nbformat": 4,
 "nbformat_minor": 2
}
